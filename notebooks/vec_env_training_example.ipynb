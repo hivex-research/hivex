{
 "cells": [
  {
   "cell_type": "markdown",
   "metadata": {},
   "source": [
    "```\n",
    "Copyright 2024 The HIVEX Authors. All Rights Reserved.\n",
    "\n",
    "Licensed under the Apache License, Version 2.0 (the \"License\");\n",
    "you may not use this file except in compliance with the License.\n",
    "You may obtain a copy of the License at\n",
    "\n",
    "   http://www.apache.org/licenses/LICENSE-2.0\n",
    "\n",
    "Unless required by applicable law or agreed to in writing, software\n",
    "distributed under the License is distributed on an \"AS IS\" BASIS,\n",
    "WITHOUT WARRANTIES OR CONDITIONS OF ANY KIND, either express or  implied.\n",
    "See the License for the specific language governing permissions and\n",
    "limitations under the License.\n",
    "```"
   ]
  },
  {
   "cell_type": "markdown",
   "metadata": {},
   "source": [
    "# Example Training using Stable Baselines3 and VecEnv"
   ]
  },
  {
   "cell_type": "markdown",
   "metadata": {},
   "source": [
    "Note:\n",
    "1. Install the dependencies as described in the README.md.\n",
    "2. select the correct kernel for this jupyter notebook at the top right."
   ]
  },
  {
   "cell_type": "markdown",
   "metadata": {},
   "source": [
    "## Import Libraries"
   ]
  },
  {
   "cell_type": "code",
   "execution_count": 1,
   "metadata": {},
   "outputs": [],
   "source": [
    "\"\"\"HIVEX stablebaselines3 VecEnv training example.\"\"\"\n",
    "from torch import nn\n",
    "\n",
    "# Stable Baselines3\n",
    "from stable_baselines3 import PPO, A2C\n",
    "from stable_baselines3.common.vec_env import VecNormalize\n",
    "\n",
    "# hivex\n",
    "from hivex.training.examples.stable_baselines3_vec_env_train.vec_env_callback import (\n",
    "    EvaluationCallback,\n",
    ")\n",
    "from hivex.training.framework_wrappers.unity_stable_baselines3.unity_vec_env_wrapper import (\n",
    "    HivexVecEnvWrapper,\n",
    ")\n",
    "from hivex.training.framework_wrappers.wrapper_utils import initialize_unity_environment"
   ]
  },
  {
   "cell_type": "markdown",
   "metadata": {},
   "source": [
    "## Define initialize_model function"
   ]
  },
  {
   "cell_type": "code",
   "execution_count": 2,
   "metadata": {},
   "outputs": [],
   "source": [
    "def initialize_model(vec_env: HivexVecEnvWrapper, algorithm: str = \"ppo\"):\n",
    "    def remove_none_entries(d):\n",
    "        return {k: v for k, v in list(d.items()) if v is not None}\n",
    "\n",
    "    tensorboard_log_path = \"/tensorboard_logs\"\n",
    "\n",
    "    policy_layers_comma_sep: str = \"128,128,128\"\n",
    "    value_layers_comma_sep: str = \"128,128,128\"\n",
    "\n",
    "    policy_layers = [\n",
    "        int(layer_width) for layer_width in policy_layers_comma_sep.split(\",\")\n",
    "    ]\n",
    "    value_layers = [\n",
    "        int(layer_width) for layer_width in value_layers_comma_sep.split(\",\")\n",
    "    ]\n",
    "\n",
    "    net_arch = [dict(vf=value_layers, pi=policy_layers)]\n",
    "\n",
    "    activation_function = None\n",
    "    log_std_init = None\n",
    "    ppo_a2c_ortho_init = None\n",
    "    policy_kwargs = remove_none_entries(\n",
    "        dict(\n",
    "            activation_fn=nn.ReLU if activation_function == \"ReLU\" else None,\n",
    "            net_arch=net_arch,\n",
    "            log_std_init=log_std_init,\n",
    "            ortho_init=ppo_a2c_ortho_init,\n",
    "        )\n",
    "    )\n",
    "\n",
    "    if algorithm == \"ppo\":\n",
    "        algorithm_specific_parameters = dict(\n",
    "                target_kl=0.1,\n",
    "                gae_lambda=0.95,\n",
    "                n_epochs=1,\n",
    "                clip_range=0.2,\n",
    "            )\n",
    "\n",
    "        model_optional_parameters = dict(\n",
    "                batch_size=10,\n",
    "                n_steps=100,\n",
    "            )\n",
    "        \n",
    "        model = PPO(\n",
    "            policy=\"MlpPolicy\",\n",
    "            env=vec_env,\n",
    "            verbose=2,\n",
    "            tensorboard_log=str(tensorboard_log_path),\n",
    "            device=\"cuda\",\n",
    "            gamma=0.9,\n",
    "            policy_kwargs=policy_kwargs,\n",
    "            learning_rate=5e-5,\n",
    "            **model_optional_parameters,\n",
    "            **algorithm_specific_parameters,\n",
    "        )\n",
    "    elif algorithm == \"a2c\":\n",
    "        algorithm_specific_parameters = remove_none_entries(dict(gae_lambda=0.95))\n",
    "        model_optional_parameters = remove_none_entries(dict(n_steps=100))\n",
    "\n",
    "        model = A2C(\n",
    "            policy=\"MlpPolicy\",\n",
    "            env=vec_env,\n",
    "            verbose=2,\n",
    "            tensorboard_log=str(tensorboard_log_path),\n",
    "            device=\"cuda\",\n",
    "            gamma=0.9,\n",
    "            policy_kwargs=policy_kwargs,\n",
    "            learning_rate=5e-5,\n",
    "            **model_optional_parameters,\n",
    "            **algorithm_specific_parameters,\n",
    "        )\n",
    "    else:\n",
    "        raise ValueError(f\"Unknown algorithm: {algorithm}\")\n",
    "\n",
    "    return model"
   ]
  },
  {
   "cell_type": "markdown",
   "metadata": {},
   "source": [
    "## Initialize Environment"
   ]
  },
  {
   "cell_type": "code",
   "execution_count": 3,
   "metadata": {},
   "outputs": [
    {
     "name": "stderr",
     "output_type": "stream",
     "text": [
      "c:\\Users\\pdsie\\anaconda3\\envs\\hivex-research-stable\\lib\\site-packages\\gymnasium\\spaces\\box.py:130: UserWarning: \u001b[33mWARN: Box bound precision lowered by casting to float32\u001b[0m\n",
      "  gym.logger.warn(f\"Box bound precision lowered by casting to {self.dtype}\")\n"
     ]
    }
   ],
   "source": [
    "unity_env = initialize_unity_environment(worker_id=0, hivex_env_tag=\"WindFarmControl\", no_graphics=True)\n",
    "vec_env = HivexVecEnvWrapper(unity_env)\n",
    "vec_env_normalized = VecNormalize(vec_env, norm_reward=True)"
   ]
  },
  {
   "cell_type": "markdown",
   "metadata": {},
   "source": [
    "## Initialize Model"
   ]
  },
  {
   "cell_type": "code",
   "execution_count": 4,
   "metadata": {},
   "outputs": [
    {
     "name": "stderr",
     "output_type": "stream",
     "text": [
      "c:\\Users\\pdsie\\anaconda3\\envs\\hivex-research-stable\\lib\\site-packages\\stable_baselines3\\common\\policies.py:460: UserWarning: As shared layers in the mlp_extractor are removed since SB3 v1.8.0, you should now pass directly a dictionary and not a list (net_arch=dict(pi=..., vf=...) instead of net_arch=[dict(pi=..., vf=...)])\n",
      "  warnings.warn(\n"
     ]
    },
    {
     "name": "stdout",
     "output_type": "stream",
     "text": [
      "Using cpu device\n"
     ]
    }
   ],
   "source": [
    "model = initialize_model(vec_env=vec_env_normalized, algorithm=\"ppo\")"
   ]
  },
  {
   "cell_type": "markdown",
   "metadata": {},
   "source": [
    "## Run Training"
   ]
  },
  {
   "cell_type": "code",
   "execution_count": 5,
   "metadata": {},
   "outputs": [
    {
     "name": "stdout",
     "output_type": "stream",
     "text": [
      "Logging to /tensorboard_logs\\PPO_66\n",
      "initializeing logger\n",
      "-----------------------------\n",
      "| time/              |      |\n",
      "|    fps             | 6381 |\n",
      "|    iterations      | 1    |\n",
      "|    time_elapsed    | 0    |\n",
      "|    total_timesteps | 800  |\n",
      "-----------------------------\n",
      "-------------------------------------------\n",
      "| time/                   |               |\n",
      "|    fps                  | 4614          |\n",
      "|    iterations           | 2             |\n",
      "|    time_elapsed         | 0             |\n",
      "|    total_timesteps      | 1600          |\n",
      "| train/                  |               |\n",
      "|    approx_kl            | 2.3102686e-05 |\n",
      "|    clip_fraction        | 0             |\n",
      "|    clip_range           | 0.2           |\n",
      "|    entropy_loss         | -1.42         |\n",
      "|    explained_variance   | 0.318         |\n",
      "|    learning_rate        | 5e-05         |\n",
      "|    loss                 | 0.0574        |\n",
      "|    n_updates            | 1             |\n",
      "|    policy_gradient_loss | 0.000292      |\n",
      "|    std                  | 1             |\n",
      "|    value_loss           | 0.369         |\n",
      "-------------------------------------------\n",
      "Closed environment\n"
     ]
    }
   ],
   "source": [
    "eval_callback = EvaluationCallback(\n",
    "    eval_env=vec_env_normalized,\n",
    "    eval_freq=5000,\n",
    "    n_eval_episodes=1,\n",
    "    n_agents=8,\n",
    "    eval_path=\"/eval\",\n",
    "    normalization=False,\n",
    ")\n",
    "\n",
    "model.learn(total_timesteps=1000, callback=[eval_callback], progress_bar=True)\n",
    "\n",
    "vec_env_normalized.close()\n",
    "print(\"Closed environment\")"
   ]
  }
 ],
 "metadata": {
  "kernelspec": {
   "display_name": "hivex-research-stable",
   "language": "python",
   "name": "python3"
  },
  "language_info": {
   "codemirror_mode": {
    "name": "ipython",
    "version": 3
   },
   "file_extension": ".py",
   "mimetype": "text/x-python",
   "name": "python",
   "nbconvert_exporter": "python",
   "pygments_lexer": "ipython3",
   "version": "3.9.19"
  }
 },
 "nbformat": 4,
 "nbformat_minor": 2
}
