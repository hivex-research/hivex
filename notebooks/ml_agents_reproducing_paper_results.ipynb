{
 "cells": [
  {
   "cell_type": "markdown",
   "metadata": {},
   "source": [
    "```\n",
    "Copyright 2024 The HIVEX Authors. All Rights Reserved.\n",
    "\n",
    "Licensed under the Apache License, Version 2.0 (the \"License\");\n",
    "you may not use this file except in compliance with the License.\n",
    "You may obtain a copy of the License at\n",
    "\n",
    "   http://www.apache.org/licenses/LICENSE-2.0\n",
    "\n",
    "Unless required by applicable law or agreed to in writing, software\n",
    "distributed under the License is distributed on an \"AS IS\" BASIS,\n",
    "WITHOUT WARRANTIES OR CONDITIONS OF ANY KIND, either express or  implied.\n",
    "See the License for the specific language governing permissions and\n",
    "limitations under the License.\n",
    "```"
   ]
  },
  {
   "cell_type": "markdown",
   "metadata": {},
   "source": [
    "# Example Training using ML-Agents: Reproducing Paper Results"
   ]
  },
  {
   "cell_type": "markdown",
   "metadata": {},
   "source": [
    "Note:\n",
    "1. Install the dependencies as described in the README.md.\n",
    "2. Download or clone the hivex-environments.\n",
    "3. Select the correct kernel for this jupyter notebook at the top right."
   ]
  },
  {
   "cell_type": "markdown",
   "metadata": {},
   "source": [
    "## Import Libraries"
   ]
  },
  {
   "cell_type": "code",
   "execution_count": 1,
   "metadata": {},
   "outputs": [],
   "source": [
    "from pathlib import Path\n",
    "import subprocess\n",
    "from tqdm import tqdm\n",
    "from pathlib import Path\n",
    "from hivex.training.baseline.ml_agents.utils import (\n",
    "    load_hivex_config,\n",
    "    clean_temp_configs,\n",
    "    construct_command,\n",
    "    create_training_config_files,\n",
    "    create_test_config_files,\n",
    ")"
   ]
  },
  {
   "cell_type": "markdown",
   "metadata": {},
   "source": [
    "## Initialize Functions"
   ]
  },
  {
   "cell_type": "code",
   "execution_count": 2,
   "metadata": {},
   "outputs": [],
   "source": [
    "def train(\n",
    "    train_config_path: Path,\n",
    "    experiment_name: str,\n",
    "    train_run_count: int = 1,\n",
    "    port: str = \"5005\",\n",
    "):\n",
    "    batch_config_files = create_training_config_files(\n",
    "        experiment_name=experiment_name,\n",
    "        train_config_path=train_config_path,\n",
    "        train_run_count=train_run_count,\n",
    "    )\n",
    "\n",
    "    for batch_config_file in tqdm(batch_config_files, desc=\"train\"):\n",
    "        cmd = construct_command(\n",
    "            config_path=batch_config_file, force=False, experiment_name=experiment_name\n",
    "        )\n",
    "        cmd += \"--base-port \" + port\n",
    "        subprocess.run(cmd, shell=True)\n",
    "\n",
    "\n",
    "def test(\n",
    "    test_config_path: Path,\n",
    "    experiment_name: str,\n",
    "    test_run_count: int = 1,\n",
    "    port: str = \"5005\",\n",
    "):\n",
    "    batch_config_files = create_test_config_files(\n",
    "        test_config_path=test_config_path,\n",
    "        experiment_name=experiment_name,\n",
    "        test_run_count=test_run_count,\n",
    "    )\n",
    "\n",
    "    for batch_config_file in tqdm(batch_config_files, desc=\"test\"):\n",
    "        cmd = construct_command(\n",
    "            config_path=batch_config_file,\n",
    "            experiment_name=experiment_name,\n",
    "            force=False,\n",
    "            train=False,\n",
    "        )\n",
    "        cmd += \"--base-port \" + port\n",
    "        subprocess.run(cmd, shell=True)\n",
    "\n",
    "\n",
    "def run_pipeline(config: Path, port: str):\n",
    "    hivex_config = load_hivex_config(config)\n",
    "    train(\n",
    "        train_config_path=hivex_config[\"train_config_path\"],\n",
    "        experiment_name=hivex_config[\"experiment_name\"],\n",
    "        train_run_count=hivex_config[\"train_run_count\"],\n",
    "        port=port,\n",
    "    )\n",
    "    test(\n",
    "        test_config_path=hivex_config[\"test_config_path\"],\n",
    "        experiment_name=hivex_config[\"experiment_name\"],\n",
    "        test_run_count=hivex_config[\"test_run_count\"],\n",
    "        port=port,\n",
    "    )\n",
    "    clean_temp_configs()"
   ]
  },
  {
   "cell_type": "markdown",
   "metadata": {},
   "source": [
    "## Run Training"
   ]
  },
  {
   "cell_type": "code",
   "execution_count": null,
   "metadata": {},
   "outputs": [],
   "source": [
    "# Wind Farm Control\n",
    "wind_farm_control_config = Path(\"../src/hivex/training/baseline/ml_agents/configs/experiments/WindFarmControl_hivex.yaml\")\n",
    "# Wildfire Resource Management\n",
    "wildfire_resource_management_config = Path(\"../src/hivex/training/baseline/ml_agents/configs/experiments/WildfireResourceManagement_hivex.yaml\")\n",
    "# Drone-Based Reforestation\n",
    "drone_based_reforestation_config = Path(\"../src/hivex/training/baseline/ml_agents/configs/experiments/DroneBasedReforestation_hivex.yaml\")\n",
    "# Ocean Plastic Collector\n",
    "ocean_plastic_collection_config = Path(\"../src/hivex/training/baseline/ml_agents/configs/experiments/OceanPlasticCollection_hivex.yaml\")\n",
    "# Aerial Wildfire Suppression\n",
    "aerial_wildfire_suppression_config = Path(\"../src/hivex/training/baseline/ml_agents/configs/experiments/AerialWildfireSuppression_hivex.yaml\")\n",
    "\n",
    "run_pipeline(\n",
    "    config=wind_farm_control_config,\n",
    "    port=\"5005\",\n",
    ")"
   ]
  }
 ],
 "metadata": {
  "kernelspec": {
   "display_name": "hivex-research-stable",
   "language": "python",
   "name": "python3"
  },
  "language_info": {
   "codemirror_mode": {
    "name": "ipython",
    "version": 3
   },
   "file_extension": ".py",
   "mimetype": "text/x-python",
   "name": "python",
   "nbconvert_exporter": "python",
   "pygments_lexer": "ipython3",
   "version": "3.9.19"
  }
 },
 "nbformat": 4,
 "nbformat_minor": 2
}
